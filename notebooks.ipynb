{
 "cells": [
  {
   "cell_type": "markdown",
   "metadata": {},
   "source": [
    "# Where has the duck been?"
   ]
  },
  {
   "cell_type": "markdown",
   "metadata": {},
   "source": [
    "```{code-cell}\n",
    ":tags: [\"hide-input\"]\n",
    "        \n",
    "import pandas as pd\n",
    "import pyproj\n",
    "\n",
    "from bokeh.plotting import figure, show, output_notebook, ColumnDataSource\n",
    "output_notebook()\n",
    "\n",
    "occ = pd.read_csv('occ.csv',index_col=0)\n",
    "\n",
    "psource = ColumnDataSource(pd.DataFrame(pyproj.transform(pyproj.Proj(init='epsg:4326'), pyproj.Proj(init='epsg:3857'), occ['lon'], occ['lat'])).transpose().rename(columns={0:'x',1:'y'}))\n",
    "\n",
    "# range bounds supplied in web mercator coordinates\n",
    "p = figure(x_range=(-2000000, 2000000), y_range=(100000, 700000),\n",
    "           x_axis_type=\"mercator\", y_axis_type=\"mercator\")\n",
    "\n",
    "p.add_tile(\"CartoDB Positron\", retina=False)\n",
    "\n",
    "p.circle('x', 'y', source=psource, color='red', size=10)\n",
    "\n",
    "show(p)\n",
    "\n",
    "```"
   ]
  },
  {
   "cell_type": "code",
   "execution_count": null,
   "metadata": {},
   "outputs": [],
   "source": [
    "# import pandas as pd\n",
    "# import pyproj\n",
    "\n",
    "# from bokeh.plotting import figure, show, output_notebook, ColumnDataSource\n",
    "# output_notebook()\n",
    "\n",
    "# occ = pd.read_csv('occ.csv',index_col=0)\n",
    "\n",
    "# psource = ColumnDataSource(pd.DataFrame(pyproj.transform(pyproj.Proj(init='epsg:4326'), pyproj.Proj(init='epsg:3857'), occ['lon'], occ['lat'])).transpose().rename(columns={0:'x',1:'y'}))\n",
    "\n",
    "\n",
    "\n",
    "# # range bounds supplied in web mercator coordinates\n",
    "# p = figure(x_range=(-2000000, 2000000), y_range=(100000, 700000),\n",
    "#            x_axis_type=\"mercator\", y_axis_type=\"mercator\")\n",
    "\n",
    "# p.add_tile(\"CartoDB Positron\", retina=False)\n",
    "\n",
    "# p.circle('x', 'y', source=psource, color='red', size=10)\n",
    "\n",
    "# show(p)"
   ]
  },
  {
   "cell_type": "markdown",
   "metadata": {},
   "source": [
    "There is a lot more that you can do with outputs (such as including interactive outputs)\n",
    "with your book. For more information about this, see [the Jupyter Book documentation](https://jupyterbook.org)"
   ]
  }
 ],
 "metadata": {
  "kernelspec": {
   "display_name": "Python 3",
   "language": "python",
   "name": "python3"
  },
  "language_info": {
   "codemirror_mode": {
    "name": "ipython",
    "version": 3
   },
   "file_extension": ".py",
   "mimetype": "text/x-python",
   "name": "python",
   "nbconvert_exporter": "python",
   "pygments_lexer": "ipython3",
   "version": "3.8.8"
  },
  "widgets": {
   "application/vnd.jupyter.widget-state+json": {
    "state": {},
    "version_major": 2,
    "version_minor": 0
   }
  }
 },
 "nbformat": 4,
 "nbformat_minor": 4
}
