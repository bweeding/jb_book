{
 "cells": [
  {
   "cell_type": "markdown",
   "id": "4e09d041-7a66-4943-b7a6-a426c8d6241e",
   "metadata": {
    "tags": []
   },
   "source": [
    "# Worldclim elevation map"
   ]
  },
  {
   "cell_type": "code",
   "execution_count": null,
   "id": "63d6e6d0-a24d-4b6c-99b9-ceba21bd5c07",
   "metadata": {
    "tags": [
     "full-width"
    ]
   },
   "outputs": [],
   "source": [
    "import pandas as pd\n",
    "\n",
    "import cartopy.crs as ccrs\n",
    "import hvplot.xarray\n",
    "import hvplot.pandas\n",
    "import xarray as xr\n",
    "from bokeh.plotting import figure, show, output_notebook\n",
    "\n",
    "\n",
    "output_notebook()\n",
    "\n",
    "ds = xr.open_dataarray('wc2.1_10m_elev.tif')\n",
    "ds = ds.sel(band=1)\n",
    "\n",
    "\n",
    "dfp = pd.read_csv('occ.csv',index_col=0)\n",
    "\n",
    "# ds.hvplot(x='x',y='y',width=1000,height=500)#*\n",
    "\n",
    "dfp.hvplot.scatter(x='lon',y='lat')\n",
    "\n"
   ]
  },
  {
   "cell_type": "code",
   "execution_count": null,
   "id": "3ccd0cd9-e5a2-4866-ac56-840ba882c287",
   "metadata": {
    "tags": []
   },
   "outputs": [],
   "source": []
  },
  {
   "cell_type": "code",
   "execution_count": null,
   "id": "a671fa84-3379-4f8e-8953-cb1e413c00eb",
   "metadata": {},
   "outputs": [],
   "source": []
  }
 ],
 "metadata": {
  "kernelspec": {
   "display_name": "Python 3",
   "language": "python",
   "name": "python3"
  },
  "language_info": {
   "codemirror_mode": {
    "name": "ipython",
    "version": 3
   },
   "file_extension": ".py",
   "mimetype": "text/x-python",
   "name": "python",
   "nbconvert_exporter": "python",
   "pygments_lexer": "ipython3",
   "version": "3.8.8"
  }
 },
 "nbformat": 4,
 "nbformat_minor": 5
}
