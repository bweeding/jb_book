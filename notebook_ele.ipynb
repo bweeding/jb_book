{
 "cells": [
  {
   "cell_type": "code",
   "execution_count": null,
   "id": "6ab279ba-1e32-455c-82bb-f4cb92bc1f39",
   "metadata": {},
   "outputs": [],
   "source": [
    "import cartopy.crs as ccrs\n",
    "import hvplot.xarray\n",
    "import xarray as xr"
   ]
  },
  {
   "cell_type": "code",
   "execution_count": null,
   "id": "23c9368d-d130-452e-9b42-cb94a6609916",
   "metadata": {},
   "outputs": [],
   "source": [
    "ds = xr.open_dataarray('wc2.1_10m_elev.tif')\n",
    "ds = ds.sel(band=1)\n",
    "ds_t.hvplot(x='x',y='y',width=1000,height=500)"
   ]
  }
 ],
 "metadata": {
  "kernelspec": {
   "display_name": "Python 3",
   "language": "python",
   "name": "python3"
  },
  "language_info": {
   "codemirror_mode": {
    "name": "ipython",
    "version": 3
   },
   "file_extension": ".py",
   "mimetype": "text/x-python",
   "name": "python",
   "nbconvert_exporter": "python",
   "pygments_lexer": "ipython3",
   "version": "3.8.8"
  }
 },
 "nbformat": 4,
 "nbformat_minor": 5
}
