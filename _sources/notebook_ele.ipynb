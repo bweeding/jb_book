{
 "cells": [
  {
   "cell_type": "markdown",
   "id": "4e09d041-7a66-4943-b7a6-a426c8d6241e",
   "metadata": {
    "tags": []
   },
   "source": [
    "# Worldclim elevation map"
   ]
  },
  {
   "cell_type": "code",
   "execution_count": null,
   "id": "c02ac702-adba-4528-be76-8c8c179dc4ef",
   "metadata": {
    "tags": []
   },
   "outputs": [],
   "source": [
    "import pandas as pd\n",
    "\n",
    "import cartopy.crs as ccrs\n",
    "import hvplot.xarray\n",
    "import hvplot.pandas\n",
    "import xarray as xr\n",
    "from bokeh.plotting import figure, show, output_notebook\n",
    "# from bokeh.resources import INLINE\n",
    "\n",
    "# output_notebook(INLINE)\n",
    "\n",
    "# output_notebook()"
   ]
  },
  {
   "cell_type": "code",
   "execution_count": null,
   "id": "2c58cb26-733e-4f32-a3db-f78b57fa5f25",
   "metadata": {
    "tags": []
   },
   "outputs": [],
   "source": [
    "ds = xr.open_dataarray('wc2.1_10m_elev.tif')\n",
    "ds = ds.sel(band=1)\n",
    "\n",
    "\n",
    "dfp = pd.read_csv('occ.csv',index_col=0)"
   ]
  },
  {
   "cell_type": "code",
   "execution_count": null,
   "id": "ca34ab55-32fe-47f6-a050-26f7c8182d09",
   "metadata": {
    "tags": [
     "full-width"
    ]
   },
   "outputs": [],
   "source": [
    "ds.hvplot(x=\"x\",y=\"y\")\n",
    "\n"
   ]
  },
  {
   "cell_type": "code",
   "execution_count": null,
   "id": "3ccd0cd9-e5a2-4866-ac56-840ba882c287",
   "metadata": {
    "tags": []
   },
   "outputs": [],
   "source": []
  },
  {
   "cell_type": "code",
   "execution_count": null,
   "id": "a671fa84-3379-4f8e-8953-cb1e413c00eb",
   "metadata": {},
   "outputs": [],
   "source": []
  }
 ],
 "metadata": {
  "kernelspec": {
   "display_name": "Python 3",
   "language": "python",
   "name": "python3"
  },
  "language_info": {
   "codemirror_mode": {
    "name": "ipython",
    "version": 3
   },
   "file_extension": ".py",
   "mimetype": "text/x-python",
   "name": "python",
   "nbconvert_exporter": "python",
   "pygments_lexer": "ipython3",
   "version": "3.8.8"
  }
 },
 "nbformat": 4,
 "nbformat_minor": 5
}
