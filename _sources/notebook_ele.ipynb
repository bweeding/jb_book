{
 "cells": [
  {
   "cell_type": "markdown",
   "id": "4e09d041-7a66-4943-b7a6-a426c8d6241e",
   "metadata": {
    "tags": []
   },
   "source": [
    "# Worldclim elevation map"
   ]
  },
  {
   "cell_type": "code",
   "execution_count": null,
   "id": "625a55f0-317b-4e8d-b16f-c8042c202263",
   "metadata": {},
   "outputs": [],
   "source": [
    "import pandas as pd"
   ]
  },
  {
   "cell_type": "code",
   "execution_count": null,
   "id": "2a28543f-1853-46d1-87a8-24fcecf702d7",
   "metadata": {
    "tags": []
   },
   "outputs": [],
   "source": [
    "import cartopy.crs as ccrs\n",
    "import hvplot.xarray\n",
    "import xarray as xr\n",
    "\n",
    "\n",
    "pd.options.plotting.backend = 'holoviews'"
   ]
  },
  {
   "cell_type": "code",
   "execution_count": null,
   "id": "23c9368d-d130-452e-9b42-cb94a6609916",
   "metadata": {
    "tags": []
   },
   "outputs": [],
   "source": [
    "ds = xr.open_dataarray('wc2.1_10m_elev.tif')\n",
    "ds = ds.sel(band=1)\n",
    "ele_plot = ds.hvplot(x='x',y='y',width=1000,height=500);\n",
    "\n",
    "dfp = pd.read_csv('occ.csv',index_col=0)\n",
    "loc_plot = dfp.hvplot.scatter(x='lon',y='lat');\n",
    "\n",
    "dfp*loc_plot"
   ]
  }
 ],
 "metadata": {
  "kernelspec": {
   "display_name": "Python 3",
   "language": "python",
   "name": "python3"
  },
  "language_info": {
   "codemirror_mode": {
    "name": "ipython",
    "version": 3
   },
   "file_extension": ".py",
   "mimetype": "text/x-python",
   "name": "python",
   "nbconvert_exporter": "python",
   "pygments_lexer": "ipython3",
   "version": "3.8.8"
  }
 },
 "nbformat": 4,
 "nbformat_minor": 5
}
