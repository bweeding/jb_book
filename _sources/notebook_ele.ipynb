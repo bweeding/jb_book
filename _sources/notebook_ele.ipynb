{
 "cells": [
  {
   "cell_type": "markdown",
   "id": "1a0746e8-cc47-4803-9b7c-ef8ae405d0c7",
   "metadata": {},
   "source": [
    "# Worldclim elevation map"
   ]
  },
  {
   "cell_type": "code",
   "execution_count": null,
   "id": "2a28543f-1853-46d1-87a8-24fcecf702d7",
   "metadata": {},
   "outputs": [],
   "source": [
    "import cartopy.crs as ccrs\n",
    "import hvplot.xarray\n",
    "import xarray as xr"
   ]
  },
  {
   "cell_type": "code",
   "execution_count": null,
   "id": "23c9368d-d130-452e-9b42-cb94a6609916",
   "metadata": {},
   "outputs": [],
   "source": [
    "ds = xr.open_dataarray('wc2.1_10m_elev.tif')\n",
    "ds = ds.sel(band=1)\n",
    "ds.hvplot(x='x',y='y',width=1000,height=500)"
   ]
  }
 ],
 "metadata": {
  "kernelspec": {
   "display_name": "Python 3",
   "language": "python",
   "name": "python3"
  },
  "language_info": {
   "codemirror_mode": {
    "name": "ipython",
    "version": 3
   },
   "file_extension": ".py",
   "mimetype": "text/x-python",
   "name": "python",
   "nbconvert_exporter": "python",
   "pygments_lexer": "ipython3",
   "version": "3.8.8"
  }
 },
 "nbformat": 4,
 "nbformat_minor": 5
}
